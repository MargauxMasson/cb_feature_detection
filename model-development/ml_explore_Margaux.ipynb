{
 "cells": [
  {
   "cell_type": "markdown",
   "metadata": {
    "id": "A8gXtOvgfY1v"
   },
   "source": [
    "## Imports"
   ]
  },
  {
   "cell_type": "code",
   "execution_count": 1,
   "metadata": {
    "colab": {
     "base_uri": "https://localhost:8080/"
    },
    "id": "rYyPKRVufY11",
    "outputId": "38b5159e-770a-4ca7-d4c7-33c628298ca8"
   },
   "outputs": [
    {
     "name": "stderr",
     "output_type": "stream",
     "text": [
      "Using TensorFlow backend.\n"
     ]
    }
   ],
   "source": [
    "# import plaidml.keras\n",
    "# plaidml.keras.install_backend()\n",
    "import wandb\n",
    "import os\n",
    "import multiprocessing\n",
    "import rasterio\n",
    "import tensorflow as tf\n",
    "from glob import glob\n",
    "import pickle\n",
    "import numpy as np\n",
    "import os\n",
    "from tensorflow.keras.models import *\n",
    "from tensorflow.keras.layers import *\n",
    "from tensorflow.keras import layers\n",
    "from tensorflow_addons.metrics import F1Score, HammingLoss\n",
    "from tensorflow_addons.losses import SigmoidFocalCrossEntropy\n",
    "\n",
    "import keras\n",
    "import pandas as pd\n",
    "import matplotlib.pyplot as plt\n",
    "import random\n",
    "import time\n",
    "np.set_printoptions(suppress=True)\n",
    "np.set_printoptions(precision=6)"
   ]
  },
  {
   "cell_type": "markdown",
   "metadata": {
    "id": "d8jjb7jLfY12"
   },
   "source": [
    "### Test with Simple CNN and Data Loader "
   ]
  },
  {
   "cell_type": "code",
   "execution_count": 2,
   "metadata": {
    "id": "V7vK3XYAfY12"
   },
   "outputs": [],
   "source": [
    "import boto3\n",
    "import rasterio as rio\n",
    "import numpy as np\n",
    "import io"
   ]
  },
  {
   "cell_type": "code",
   "execution_count": 3,
   "metadata": {
    "id": "LSEOQKhQfY12"
   },
   "outputs": [],
   "source": [
    "from data_loader import DataLoader"
   ]
  },
  {
   "cell_type": "code",
   "execution_count": 4,
   "metadata": {},
   "outputs": [
    {
     "name": "stderr",
     "output_type": "stream",
     "text": [
      "\u001b[34m\u001b[1mwandb\u001b[0m: Currently logged in as: \u001b[33mmargauxmforsythe\u001b[0m (use `wandb login --relogin` to force relogin)\n"
     ]
    },
    {
     "data": {
      "text/html": [
       "\n",
       "                Tracking run with wandb version 0.10.21<br/>\n",
       "                Syncing run <strong style=\"color:#cdcd00\">young-grass-18</strong> to <a href=\"https://wandb.ai\" target=\"_blank\">Weights & Biases</a> <a href=\"https://docs.wandb.com/integrations/jupyter.html\" target=\"_blank\">(Documentation)</a>.<br/>\n",
       "                Project page: <a href=\"https://wandb.ai/margauxmforsythe/project_canopy\" target=\"_blank\">https://wandb.ai/margauxmforsythe/project_canopy</a><br/>\n",
       "                Run page: <a href=\"https://wandb.ai/margauxmforsythe/project_canopy/runs/27eqd3zx\" target=\"_blank\">https://wandb.ai/margauxmforsythe/project_canopy/runs/27eqd3zx</a><br/>\n",
       "                Run data is saved locally in <code>/Users/margauxmforstyhe/Desktop/Project Canopy/cb_feature_detection/model-development/wandb/run-20210307_123535-27eqd3zx</code><br/><br/>\n",
       "            "
      ],
      "text/plain": [
       "<IPython.core.display.HTML object>"
      ]
     },
     "metadata": {},
     "output_type": "display_data"
    }
   ],
   "source": [
    "import wandb\n",
    "from wandb.keras import WandbCallback \n",
    "\n",
    "wandb.init(project='project_canopy', sync_tensorboard=True)\n",
    "config = wandb.config"
   ]
  },
  {
   "cell_type": "code",
   "execution_count": 5,
   "metadata": {},
   "outputs": [
    {
     "name": "stdout",
     "output_type": "stream",
     "text": [
      "batch size 20, learning_rate 0.001, augment False\n"
     ]
    }
   ],
   "source": [
    "# Variables definition\n",
    "config.batch_size = 20\n",
    "config.learning_rate = 0.001\n",
    "config.label_file_path_train=\"labels_test_v1.csv\" # labels_1_4_train_v2\n",
    "config.label_file_path_val=\"val_labels.csv\"\n",
    "config.loss = SigmoidFocalCrossEntropy() # tf.keras.losses.BinaryCrossentropy(from_logits=False)\n",
    "config.optimizer = keras.optimizers.Adam(config.learning_rate)\n",
    "config.input_shape = (100,100,18)\n",
    "comfig.numclasses=10\n",
    "\n",
    "config.augment = False\n",
    "config.random_flip_up_down=False\n",
    "config.random_flip_left_right=False\n",
    "config.flip_left_right=True\n",
    "config.flip_up_down=True\n",
    "config.rot90=False\n",
    "config.transpose=False\n",
    "config.enable_shuffle=True\n",
    "\n",
    "print(f\"batch size {config.batch_size}, learning_rate {config.learning_rate}, augment {config.augment}\")"
   ]
  },
  {
   "cell_type": "code",
   "execution_count": 6,
   "metadata": {
    "colab": {
     "base_uri": "https://localhost:8080/"
    },
    "id": "AjosfRxQfY12",
    "outputId": "3615ff29-b3d9-4652-d971-3eca3e74c313"
   },
   "outputs": [
    {
     "name": "stdout",
     "output_type": "stream",
     "text": [
      "The file labels_test_v1.csv is missing positive labels for classes ['0', '2', '3', '7', '8', '9']\n",
      "The file val_labels.csv is missing positive labels for classes ['5', '9']\n",
      "No data augmentation. Please set augment to True if you want to augment training dataset\n",
      "Training on 100 images \n",
      "Validation on 366 images \n"
     ]
    }
   ],
   "source": [
    "gen = DataLoader(label_file_path_train=config.label_file_path_train, # test labels_test_v1 TODO use s3 paths\n",
    "                label_file_path_val=config.label_file_path_val, # or val_all\n",
    "                bucket_name='canopy-production-ml',\n",
    "                 s3_file_paths=False,\n",
    "                data_extension_type='.tif',\n",
    "                training_data_shape=(100, 100, 18),\n",
    "                augment=config.augment,\n",
    "                random_flip_up_down=config.random_flip_up_down, #Randomly flips an image vertically (upside down). With a 1 in 2 chance, outputs the contents of `image` flipped along the first dimension, which is `height`.\n",
    "                random_flip_left_right=config.random_flip_left_right,\n",
    "                flip_left_right=config.flip_left_right,\n",
    "                flip_up_down=config.flip_up_down,\n",
    "                rot90=config.rot90,\n",
    "                transpose=config.transpose,\n",
    "                enable_shuffle=config.enable_shuffle,\n",
    "                # training_data_shuffle_buffer_size=10,\n",
    "                training_data_batch_size=config.batch_size,\n",
    "                training_data_type=tf.float32,\n",
    "                label_data_type=tf.uint8,\n",
    "                enable_data_prefetch=False,\n",
    "                data_prefetch_size=tf.data.experimental.AUTOTUNE,\n",
    "                num_parallel_calls=int(2))\n"
   ]
  },
  {
   "cell_type": "code",
   "execution_count": 7,
   "metadata": {
    "colab": {
     "base_uri": "https://localhost:8080/",
     "height": 1000
    },
    "id": "g92S2QivoJG3",
    "outputId": "742de5ea-2195-4c18-9357-b07f97999cdd"
   },
   "outputs": [],
   "source": [
    "# for image, label in iter(gen.training_dataset): # extract 1 batch at a time from the dataset\n",
    "#     image = image.numpy()\n",
    "#     label = label.numpy()\n",
    "#     print(image.shape)    \n",
    "\n",
    "#     fig = plt.figure(figsize=(22, 22))\n",
    "#     for i in range(20): # display 20 first tiles from batch\n",
    "#         ax = fig.add_subplot(4, 5, i+1, xticks=[], yticks=[])\n",
    "#         ax.imshow(image[i][:,:,0])\n",
    "#         ax.set_title(f\"Label: {label[i]}\")\n",
    "#     plt.show()\n",
    "    \n",
    "#     break"
   ]
  },
  {
   "cell_type": "code",
   "execution_count": null,
   "metadata": {
    "colab": {
     "base_uri": "https://localhost:8080/"
    },
    "id": "8NpIQcBPaBxT",
    "outputId": "6ac89ebf-9dba-4712-eeaf-5b40ae575a18",
    "scrolled": true
   },
   "outputs": [],
   "source": [
    "# img, label = next(iter(gen.training_dataset))\n",
    "# print(img[0]) # checking normalization "
   ]
  },
  {
   "cell_type": "code",
   "execution_count": 9,
   "metadata": {
    "id": "ZkpNlDB2oJG4"
   },
   "outputs": [],
   "source": [
    "# for image, label in iter(gen.training_dataset): # extract 1 batch at a time from the dataset\n",
    "#     image = image.numpy()\n",
    "#     label = label.numpy()\n",
    "#     print(image.shape)    \n",
    "\n",
    "#     fig = plt.figure(figsize=(22, 22))\n",
    "#     for i in range(4): # display 4 first tiles from batch\n",
    "#         ax = fig.add_subplot(4, 5, i+1, xticks=[], yticks=[])\n",
    "#         ax.imshow(image[i][:,:,0])\n",
    "#         ax.set_title(f\"Label: {label[i]}\")\n",
    "#     plt.show()\n",
    "\n"
   ]
  },
  {
   "cell_type": "code",
   "execution_count": 8,
   "metadata": {
    "id": "x5Pwm2IFfY16"
   },
   "outputs": [],
   "source": [
    "def plot_learningCurve(history):\n",
    "  # Plot training & validation accuracy values\n",
    "  plt.plot(history.history['accuracy'])\n",
    "#   plt.plot(history.history['val_accuracy'])\n",
    "  plt.title('Model accuracy')\n",
    "  plt.ylabel('Accuracy')\n",
    "  plt.xlabel('Epoch')\n",
    "  plt.legend(['Train'], loc='upper left')\n",
    "  plt.show()\n",
    "\n",
    "  # Plot training & validation loss values\n",
    "  plt.plot(history.history['loss'])\n",
    "#   plt.plot(history.history['val_loss'])\n",
    "  plt.title('Model loss')\n",
    "  plt.ylabel('Loss')\n",
    "  plt.xlabel('Epoch')\n",
    "  plt.legend(['Train'], loc='upper left')\n",
    "  plt.show()\n",
    "  \n",
    "  plt.plot(history.history['val_loss'])\n",
    "  plt.title('Model loss')\n",
    "  plt.ylabel('Loss')\n",
    "  plt.xlabel('Epoch')\n",
    "  plt.legend(['Val'], loc='upper left')\n",
    "  plt.show()\n",
    "\n",
    "  plt.plot(history.history['val_accuracy'])\n",
    "  plt.title('Model accuracy')\n",
    "  plt.ylabel('Accuracy')\n",
    "  plt.xlabel('Epoch')\n",
    "  plt.legend(['Val'], loc='upper left')\n",
    "  plt.show()\n",
    "\n",
    "\n"
   ]
  },
  {
   "cell_type": "markdown",
   "metadata": {
    "id": "D_uYgh5vfY17"
   },
   "source": [
    "## PREPRODUCTION Candidate: ResNet50 pretrained on ImageNet"
   ]
  },
  {
   "cell_type": "markdown",
   "metadata": {
    "id": "Mf6ku3ijfY17"
   },
   "source": [
    "### Build model"
   ]
  },
  {
   "cell_type": "code",
   "execution_count": 9,
   "metadata": {
    "id": "VdfO-zQJfY17"
   },
   "outputs": [],
   "source": [
    "def define_model(numclasses,input_shape):\n",
    "    # parameters for CNN\n",
    "    input_tensor = Input(shape=input_shape)\n",
    "\n",
    "    # introduce a additional layer to get from bands to 3 input channels\n",
    "    input_tensor = Conv2D(3, (1, 1))(input_tensor)\n",
    "\n",
    "    base_model_resnet50 = keras.applications.ResNet50(include_top=False,\n",
    "                              weights='imagenet',\n",
    "                              input_shape=(100, 100, 3))\n",
    "    base_model = keras.applications.ResNet50(include_top=False,\n",
    "                     weights=None,\n",
    "                     input_tensor=input_tensor)\n",
    "\n",
    "    for i, layer in enumerate(base_model_resnet50.layers):\n",
    "        # we must skip input layer, which has no weights\n",
    "        if i == 0:\n",
    "            continue\n",
    "        base_model.layers[i+1].set_weights(layer.get_weights())\n",
    "\n",
    "    # add a global spatial average pooling layer\n",
    "    top_model = base_model.output\n",
    "    top_model = GlobalAveragePooling2D()(top_model)\n",
    "\n",
    "    # let's add a fully-connected layer\n",
    "    top_model = Dense(2048, activation='relu')(top_model)\n",
    "    top_model = Dense(2048, activation='relu')(top_model)\n",
    "    # and a logistic layer\n",
    "    predictions = Dense(numclasses, activation='sigmoid')(top_model) # or softmax??\n",
    "\n",
    "    # this is the model we will train\n",
    "    model = Model(inputs=base_model.input, outputs=predictions)\n",
    "#     model.layers[-1].bias.assign([0.0]) ?\n",
    "\n",
    "#     model.summary()\n",
    "    return model"
   ]
  },
  {
   "cell_type": "code",
   "execution_count": 10,
   "metadata": {
    "id": "nLHatxuSfY17"
   },
   "outputs": [],
   "source": [
    "random_id = random.randint(1,101) \n",
    "\n",
    "model_checkpoint_callback_loss = tf.keras.callbacks.ModelCheckpoint(\n",
    "  filepath= f'checkpoint_loss_{random_id}.h5',\n",
    "  format='h5',\n",
    "  verbose=1,\n",
    "  save_weights_only=True,\n",
    "  monitor='val_loss',\n",
    "  mode='min',\n",
    "  save_best_only=True)\n",
    "\n",
    "model_checkpoint_callback_recall = tf.keras.callbacks.ModelCheckpoint(\n",
    "  filepath= f'checkpoint_recall_{random_id}.h5',\n",
    "  format='h5',\n",
    "  verbose=1,\n",
    "  save_weights_only=True,\n",
    "  monitor='val_recall',\n",
    "  mode='max',\n",
    "  save_best_only=True)\n",
    "\n",
    "model_checkpoint_callback_precision = tf.keras.callbacks.ModelCheckpoint(\n",
    "  filepath= f'checkpoint_precision_{random_id}.h5',\n",
    "  format='h5',\n",
    "  verbose=1,\n",
    "  save_weights_only=True,\n",
    "  monitor='val_precision',\n",
    "  mode='max',\n",
    "  save_best_only=True)\n",
    "\n",
    "# reducelronplateau = tf.keras.callbacks.ReduceLROnPlateau(\n",
    "#   monitor='val_loss', factor=0.1, patience=5, verbose=1,\n",
    "#   mode='min', min_lr=0.000001)\n",
    "\n",
    "early_stop = tf.keras.callbacks.EarlyStopping(monitor='val_precision', mode='max', patience=20, verbose=1)\n",
    "\n",
    "wandb_callback = WandbCallback()\n",
    "callbacks_list = [model_checkpoint_callback_loss, model_checkpoint_callback_recall, early_stop, wandb_callback] #TODO re add reducelronplateau\n",
    "\n",
    "model = define_model(comfig.numclasses, config.input_shape)\n",
    "\n",
    "# loss=tf.keras.losses.BinaryCrossentropy(from_logits=False), # Computes the cross-entropy loss between true labels and predicted labels.\n",
    "# Focal loss instead of class weights: https://www.dlology.com/blog/multi-class-classification-with-focal-loss-for-imbalanced-datasets/\n",
    "model.compile(loss=config.loss, # https://www.tensorflow.org/addons/api_docs/python/tfa/losses/SigmoidFocalCrossEntropy\n",
    "              optimizer=config.optimizer,\n",
    "              metrics=[tf.metrics.BinaryAccuracy(name='accuracy'), \n",
    "                       tf.keras.metrics.Precision(name='precision'), # Computes the precision of the predictions with respect to the labels.\n",
    "                       tf.keras.metrics.Recall(name='recall'), # Computes the recall of the predictions with respect to the labels.\n",
    "                       F1Score(num_classes=10, name=\"f1_score\") # https://www.tensorflow.org/addons/api_docs/python/tfa/metrics/F1Score\n",
    "                       ]\n",
    "#               sample_weight_mode=\"temporal\" # This argument is not supported when x is a dataset or a dataset iterator, instead pass sample weights as the third element of x.\n",
    "             )\n",
    "\n"
   ]
  },
  {
   "cell_type": "markdown",
   "metadata": {
    "id": "mpO3m-etfY18"
   },
   "source": [
    "### Start training"
   ]
  },
  {
   "cell_type": "code",
   "execution_count": 11,
   "metadata": {
    "colab": {
     "base_uri": "https://localhost:8080/"
    },
    "id": "w1T0w5tlfY18",
    "outputId": "15b859a2-b0eb-4f1e-e5d5-cf3f2d9f1855",
    "scrolled": true
   },
   "outputs": [
    {
     "name": "stdout",
     "output_type": "stream",
     "text": [
      "Epoch 1/10\n",
      "5/5 [==============================] - 269s 51s/step - loss: 1.6431 - accuracy: 0.7485 - precision: 0.2796 - recall: 0.5203 - f1_score: 0.1005 - val_loss: 12.0400 - val_accuracy: 0.8331 - val_precision: 0.2541 - val_recall: 0.2158 - val_f1_score: 0.0405\n",
      "\n",
      "Epoch 00001: val_loss improved from inf to 12.03997, saving model to checkpoint_loss_28.h5\n",
      "\n",
      "Epoch 00001: val_recall improved from -inf to 0.21578, saving model to checkpoint_recall_28.h5\n",
      "Epoch 2/10\n",
      "5/5 [==============================] - 287s 56s/step - loss: 0.5810 - accuracy: 0.9322 - precision: 0.7307 - recall: 0.7284 - f1_score: 0.0850 - val_loss: 12.0400 - val_accuracy: 0.8331 - val_precision: 0.2541 - val_recall: 0.2158 - val_f1_score: 0.0405\n",
      "\n",
      "Epoch 00002: val_loss did not improve from 12.03997\n",
      "\n",
      "Epoch 00002: val_recall did not improve from 0.21578\n",
      "Epoch 3/10\n",
      "5/5 [==============================] - 278s 55s/step - loss: 0.2285 - accuracy: 0.8985 - precision: 1.0000 - recall: 0.1850 - f1_score: 0.1156 - val_loss: 12.0400 - val_accuracy: 0.8331 - val_precision: 0.2541 - val_recall: 0.2158 - val_f1_score: 0.0405\n",
      "\n",
      "Epoch 00003: val_loss did not improve from 12.03997\n",
      "\n",
      "Epoch 00003: val_recall did not improve from 0.21578\n",
      "Epoch 4/10\n",
      "5/5 [==============================] - 296s 59s/step - loss: 0.2247 - accuracy: 0.9075 - precision: 0.8716 - recall: 0.2906 - f1_score: 0.0792 - val_loss: 12.0400 - val_accuracy: 0.8331 - val_precision: 0.2541 - val_recall: 0.2158 - val_f1_score: 0.0405\n",
      "\n",
      "Epoch 00004: val_loss did not improve from 12.03997\n",
      "\n",
      "Epoch 00004: val_recall did not improve from 0.21578\n",
      "Epoch 5/10\n",
      "5/5 [==============================] - 290s 56s/step - loss: 0.2916 - accuracy: 0.8985 - precision: 0.9540 - recall: 0.1897 - f1_score: 0.0837 - val_loss: 21.8199 - val_accuracy: 0.7560 - val_precision: 0.1844 - val_recall: 0.3132 - val_f1_score: 0.0611\n",
      "\n",
      "Epoch 00005: val_loss did not improve from 12.03997\n",
      "\n",
      "Epoch 00005: val_recall improved from 0.21578 to 0.31323, saving model to checkpoint_recall_28.h5\n",
      "Epoch 6/10\n",
      "5/5 [==============================] - 265s 52s/step - loss: 1.3431 - accuracy: 0.8821 - precision: 0.5737 - recall: 0.1786 - f1_score: 0.0905 - val_loss: 12.0400 - val_accuracy: 0.8331 - val_precision: 0.2541 - val_recall: 0.2158 - val_f1_score: 0.0405\n",
      "\n",
      "Epoch 00006: val_loss did not improve from 12.03997\n",
      "\n",
      "Epoch 00006: val_recall did not improve from 0.31323\n",
      "Epoch 7/10\n",
      "5/5 [==============================] - 277s 51s/step - loss: 0.2471 - accuracy: 0.9046 - precision: 0.9668 - recall: 0.2078 - f1_score: 0.0818 - val_loss: 12.0400 - val_accuracy: 0.8331 - val_precision: 0.2541 - val_recall: 0.2158 - val_f1_score: 0.0405\n",
      "\n",
      "Epoch 00007: val_loss did not improve from 12.03997\n",
      "\n",
      "Epoch 00007: val_recall did not improve from 0.31323\n",
      "Epoch 8/10\n",
      "5/5 [==============================] - 263s 52s/step - loss: 0.1889 - accuracy: 0.8919 - precision: 0.8405 - recall: 0.1653 - f1_score: 0.0839 - val_loss: 12.0400 - val_accuracy: 0.8331 - val_precision: 0.2541 - val_recall: 0.2158 - val_f1_score: 0.0405\n",
      "\n",
      "Epoch 00008: val_loss did not improve from 12.03997\n",
      "\n",
      "Epoch 00008: val_recall did not improve from 0.31323\n",
      "Epoch 9/10\n",
      "5/5 [==============================] - 258s 51s/step - loss: 0.2509 - accuracy: 0.8887 - precision: 0.8679 - recall: 0.1136 - f1_score: 0.0933 - val_loss: 12.0400 - val_accuracy: 0.8331 - val_precision: 0.2541 - val_recall: 0.2158 - val_f1_score: 0.0405\n",
      "\n",
      "Epoch 00009: val_loss did not improve from 12.03997\n",
      "\n",
      "Epoch 00009: val_recall did not improve from 0.31323\n",
      "Epoch 10/10\n",
      "5/5 [==============================] - 261s 51s/step - loss: 0.2102 - accuracy: 0.8969 - precision: 0.9616 - recall: 0.1576 - f1_score: 0.0824 - val_loss: 12.0400 - val_accuracy: 0.8331 - val_precision: 0.2541 - val_recall: 0.2158 - val_f1_score: 0.0405\n",
      "\n",
      "Epoch 00010: val_loss did not improve from 12.03997\n",
      "\n",
      "Epoch 00010: val_recall did not improve from 0.31323\n"
     ]
    }
   ],
   "source": [
    "epochs = 10\n",
    "history = model.fit(gen.training_dataset, validation_data=gen.validation_dataset, \n",
    "                    epochs=epochs, \n",
    "                    callbacks=callbacks_list,\n",
    "                    shuffle=True # whether to shuffle the training data before each epoch\n",
    "                   ) \n"
   ]
  },
  {
   "cell_type": "markdown",
   "metadata": {
    "id": "wlnMosA3fY19"
   },
   "source": [
    "Evaluation"
   ]
  },
  {
   "cell_type": "code",
   "execution_count": 23,
   "metadata": {
    "id": "zzTBEg-ufY19"
   },
   "outputs": [
    {
     "name": "stdout",
     "output_type": "stream",
     "text": [
      "19/19 [==============================] - 201s 11s/step - loss: 12.0400 - accuracy: 0.8331 - precision: 0.2541 - recall: 0.2158 - f1_score: 0.0405\n"
     ]
    }
   ],
   "source": [
    "loss, accuracy, precision, recall, f1score = model.evaluate(gen.validation_dataset) "
   ]
  },
  {
   "cell_type": "code",
   "execution_count": 12,
   "metadata": {
    "id": "rUQV7eQ4fY19"
   },
   "outputs": [
    {
     "name": "stdout",
     "output_type": "stream",
     "text": [
      "(100, 100, 18)\n"
     ]
    }
   ],
   "source": [
    "s3 = boto3.resource('s3')\n",
    "# TODO test on entire test dataset\n",
    "obj = s3.Object('canopy-production-ml', \"chips/cloudfree-merge-polygons/split/test/100/100_1000_1000.tif\")\n",
    "obj_bytes = io.BytesIO(obj.get()['Body'].read())\n",
    "with rasterio.open(obj_bytes) as src:\n",
    "    img_test = np.transpose(src.read(), (1, 2, 0))\n",
    "print(img_test.shape)\n",
    "label_list = ['Habitation', 'ISL', 'Industrial_agriculture', 'Mining',\n",
    "    'Rainforest', 'River', 'Roads', 'Savannah', 'Shifting_cultivation',\n",
    "    'Water'\n",
    "]"
   ]
  },
  {
   "cell_type": "code",
   "execution_count": 13,
   "metadata": {
    "id": "Xka2fcz1fY19"
   },
   "outputs": [
    {
     "name": "stdout",
     "output_type": "stream",
     "text": [
      "This chip was predicted to belong to these classes:\n",
      "['Rainforest']\n"
     ]
    }
   ],
   "source": [
    "predictions = model.predict(np.array([img_test]))\n",
    "\n",
    "threshold = 0.2\n",
    "argsort_list = list(np.argsort(np.array(predictions[0])))\n",
    "argsort_list.reverse()\n",
    "pred_labels = []\n",
    "for top_matches in argsort_list:\n",
    "    if predictions[0][top_matches] > threshold:\n",
    "        pred_labels.append(label_list[top_matches])\n",
    "\n",
    "print(\"This chip was predicted to belong to these classes:\")\n",
    "print(pred_labels)\n"
   ]
  },
  {
   "cell_type": "code",
   "execution_count": 14,
   "metadata": {
    "id": "R1Ae9ca7fY19"
   },
   "outputs": [
    {
     "data": {
      "image/png": "[encoded data removed]",
      "text/plain": [
       "<Figure size 432x288 with 1 Axes>"
      ]
     },
     "metadata": {
      "needs_background": "light"
     },
     "output_type": "display_data"
    },
    {
     "data": {
      "image/png": "[encoded data removed]",
      "text/plain": [
       "<Figure size 432x288 with 1 Axes>"
      ]
     },
     "metadata": {
      "needs_background": "light"
     },
     "output_type": "display_data"
    },
    {
     "data": {
      "image/png": "[encoded data removed]",
      "text/plain": [
       "<Figure size 432x288 with 1 Axes>"
      ]
     },
     "metadata": {
      "needs_background": "light"
     },
     "output_type": "display_data"
    },
    {
     "data": {
      "image/png": "[encoded data removed]",
      "text/plain": [
       "<Figure size 432x288 with 1 Axes>"
      ]
     },
     "metadata": {
      "needs_background": "light"
     },
     "output_type": "display_data"
    }
   ],
   "source": [
    "plot_learningCurve(history)"
   ]
  },
  {
   "cell_type": "code",
   "execution_count": 15,
   "metadata": {},
   "outputs": [
    {
     "data": {
      "text/plain": [
       "(20, 100, 100, 18)"
      ]
     },
     "execution_count": 15,
     "metadata": {},
     "output_type": "execute_result"
    }
   ],
   "source": [
    "test_imgs = []\n",
    "test_labels = []\n",
    "number_imgs_limit = 100\n",
    "nb_imgs = 0\n",
    "\n",
    "# TODO: find a better way to do this, too slow\n",
    "for image, label in iter(gen.validation_dataset): # TODO replace with test dataset \n",
    "    image = image.numpy()\n",
    "    label = label.numpy()\n",
    "#         print(image.shape)\n",
    "    if image.shape[0] == config.batch_size:\n",
    "        for b in range(config.batch_size):\n",
    "            if nb_imgs < number_imgs_limit:\n",
    "                test_imgs.append(image[b])\n",
    "                test_labels.append(label[b])\n",
    "                nb_imgs = nb_imgs + 1\n",
    "        else:\n",
    "            break\n",
    "np.array(test_imgs).shape"
   ]
  },
  {
   "cell_type": "code",
   "execution_count": 16,
   "metadata": {},
   "outputs": [],
   "source": [
    "# test_labels"
   ]
  },
  {
   "cell_type": "code",
   "execution_count": 17,
   "metadata": {
    "id": "UTQhCyshfY1-"
   },
   "outputs": [],
   "source": [
    "y_pred=model.predict(np.array(test_imgs))"
   ]
  },
  {
   "cell_type": "code",
   "execution_count": 18,
   "metadata": {},
   "outputs": [],
   "source": [
    "y_true = np.array(test_labels)"
   ]
  },
  {
   "cell_type": "code",
   "execution_count": 19,
   "metadata": {},
   "outputs": [
    {
     "data": {
      "text/plain": [
       "array([0., 0., 0., 0., 1., 0., 0., 0., 0., 0.], dtype=float32)"
      ]
     },
     "execution_count": 19,
     "metadata": {},
     "output_type": "execute_result"
    }
   ],
   "source": [
    "y_true[0]"
   ]
  },
  {
   "cell_type": "code",
   "execution_count": 20,
   "metadata": {},
   "outputs": [
    {
     "data": {
      "text/plain": [
       "[0, 1, 2, 3, 5, 6, 7, 8, 9, 4]"
      ]
     },
     "execution_count": 20,
     "metadata": {},
     "output_type": "execute_result"
    }
   ],
   "source": [
    "list(np.argsort(np.array(y_pred[0])))"
   ]
  },
  {
   "cell_type": "code",
   "execution_count": 21,
   "metadata": {},
   "outputs": [
    {
     "data": {
      "text/plain": [
       "array([0., 0., 0., 0., 1., 0., 0., 0., 0., 0.], dtype=float32)"
      ]
     },
     "execution_count": 21,
     "metadata": {},
     "output_type": "execute_result"
    }
   ],
   "source": [
    "y_pred[0]"
   ]
  },
  {
   "cell_type": "code",
   "execution_count": 22,
   "metadata": {
    "scrolled": true
   },
   "outputs": [
    {
     "name": "stdout",
     "output_type": "stream",
     "text": [
      "\n",
      "0) True labels:\n",
      "['Rainforest']\n",
      "Predicted labels:\n",
      "['Rainforest']\n",
      "\n",
      "1) True labels:\n",
      "['Rainforest']\n",
      "Predicted labels:\n",
      "['Rainforest']\n",
      "\n",
      "2) True labels:\n",
      "['Rainforest']\n",
      "Predicted labels:\n",
      "['Rainforest']\n",
      "\n",
      "3) True labels:\n",
      "['Rainforest']\n",
      "Predicted labels:\n",
      "['Rainforest']\n",
      "\n",
      "4) True labels:\n",
      "['Rainforest', 'Roads']\n",
      "Predicted labels:\n",
      "['Rainforest']\n",
      "\n",
      "5) True labels:\n",
      "['Rainforest', 'Roads']\n",
      "Predicted labels:\n",
      "['Rainforest']\n",
      "\n",
      "6) True labels:\n",
      "['Rainforest', 'Roads']\n",
      "Predicted labels:\n",
      "['Rainforest']\n",
      "\n",
      "7) True labels:\n",
      "['Rainforest', 'Roads']\n",
      "Predicted labels:\n",
      "['Rainforest']\n",
      "\n",
      "8) True labels:\n",
      "['Rainforest']\n",
      "Predicted labels:\n",
      "['Rainforest']\n",
      "\n",
      "9) True labels:\n",
      "['Rainforest']\n",
      "Predicted labels:\n",
      "['Rainforest']\n",
      "\n",
      "10) True labels:\n",
      "['Rainforest']\n",
      "Predicted labels:\n",
      "['Rainforest']\n",
      "\n",
      "11) True labels:\n",
      "['Rainforest']\n",
      "Predicted labels:\n",
      "['Rainforest']\n",
      "\n",
      "12) True labels:\n",
      "['Rainforest']\n",
      "Predicted labels:\n",
      "['Rainforest']\n",
      "\n",
      "13) True labels:\n",
      "['Rainforest']\n",
      "Predicted labels:\n",
      "['Rainforest']\n",
      "\n",
      "14) True labels:\n",
      "['Rainforest']\n",
      "Predicted labels:\n",
      "['Rainforest']\n",
      "\n",
      "15) True labels:\n",
      "['Rainforest']\n",
      "Predicted labels:\n",
      "['Rainforest']\n",
      "\n",
      "16) True labels:\n",
      "['ISL', 'Rainforest']\n",
      "Predicted labels:\n",
      "['Rainforest']\n",
      "\n",
      "17) True labels:\n",
      "['ISL']\n",
      "Predicted labels:\n",
      "['Rainforest']\n",
      "\n",
      "18) True labels:\n",
      "['ISL', 'Rainforest']\n",
      "Predicted labels:\n",
      "['Rainforest']\n",
      "\n",
      "19) True labels:\n",
      "['ISL', 'Rainforest']\n",
      "Predicted labels:\n",
      "['Rainforest']\n"
     ]
    }
   ],
   "source": [
    "def compare_ytrue_ypred(y_true, y_pred,threshold=0.2):\n",
    "    for idx in range(len(y_pred)):\n",
    "        argsort_list = list(np.argsort(np.array(y_pred[idx])))\n",
    "        argsort_list.reverse()\n",
    "        true_classes_list = [ i for i in range(len(y_true[idx])) if y_true[idx][i] == 1 ]\n",
    "        print(\"\\n{}) True labels:\".format(idx))\n",
    "        print([label_list[index] for index in true_classes_list])\n",
    "        pred_labels = []\n",
    "        for top_matches in argsort_list:\n",
    "            if y_pred[idx][top_matches] > threshold:\n",
    "                pred_labels.append(label_list[top_matches])\n",
    "        print(\"Predicted labels:\")\n",
    "        print(pred_labels)\n",
    "#         break\n",
    "compare_ytrue_ypred(y_true, y_pred,threshold)"
   ]
  },
  {
   "cell_type": "code",
   "execution_count": null,
   "metadata": {},
   "outputs": [],
   "source": []
  },
  {
   "cell_type": "code",
   "execution_count": null,
   "metadata": {},
   "outputs": [],
   "source": []
  },
  {
   "cell_type": "code",
   "execution_count": null,
   "metadata": {},
   "outputs": [],
   "source": []
  },
  {
   "cell_type": "code",
   "execution_count": null,
   "metadata": {},
   "outputs": [],
   "source": []
  },
  {
   "cell_type": "code",
   "execution_count": null,
   "metadata": {},
   "outputs": [],
   "source": []
  },
  {
   "cell_type": "code",
   "execution_count": null,
   "metadata": {},
   "outputs": [],
   "source": [
    "# from sklearn.model_selection import GridSearchCV\n",
    "# # Use scikit-learn to grid search \n",
    "# activation =  ['relu', 'tanh', 'sigmoid', 'hard_sigmoid', 'linear'] # softmax, softplus, softsign \n",
    "# momentum = [0.0, 0.2, 0.4, 0.6, 0.8, 0.9]\n",
    "# learn_rate = [0.001, 0.01, 0.1, 0.2, 0.3]\n",
    "# dropout_rate = [0.0, 0.1, 0.2, 0.3, 0.4, 0.5, 0.6, 0.7, 0.8, 0.9]\n",
    "# weight_constraint=[1, 2, 3, 4, 5]\n",
    "# neurons = [1, 5, 10, 15, 20, 25, 30]\n",
    "# init = ['uniform', 'lecun_uniform', 'normal', 'zero', 'glorot_normal', 'glorot_uniform', 'he_normal', 'he_uniform']\n",
    "# optimizer = [ 'SGD', 'RMSprop', 'Adagrad', 'Adadelta', 'Adam', 'Adamax', 'Nadam']\n",
    "# ##############################################################\n",
    "# # grid search epochs, batch size\n",
    "# epochs = [1, 10] # add 50, 100, 150 etc\n",
    "# batch_size = [1000, 5000] # add 5, 10, 20, 40, 60, 80, 100 etc\n",
    "# param_grid = dict(epochs=epochs, batch_size=batch_size)\n",
    "# ##############################################################\n",
    "# grid = GridSearchCV(estimator=model, param_grid=param_grid, n_jobs=-1)\n",
    "# grid_result = grid.fit(gen.training_dataset) \n",
    "# ##############################################################\n",
    "# # summarize results\n",
    "# print(\"Best: %f using %s\" % (grid_result.best_score_, grid_result.best_params_))\n",
    "# means = grid_result.cv_results_['mean_test_score']\n",
    "# stds = grid_result.cv_results_['std_test_score']\n",
    "# params = grid_result.cv_results_['params']\n",
    "# for mean, stdev, param in zip(means, stds, params):\n",
    "#     print(\"%f (%f) with: %r\" % (mean, stdev, param))\n",
    "# ##############################################################"
   ]
  }
 ],
 "metadata": {
  "accelerator": "GPU",
  "colab": {
   "collapsed_sections": [
    "Mf6ku3ijfY17"
   ],
   "name": "ml_explore_Margaux_shuffle.ipynb",
   "provenance": [],
   "toc_visible": true
  },
  "kernelspec": {
   "display_name": "Python 3",
   "language": "python",
   "name": "python3"
  },
  "language_info": {
   "codemirror_mode": {
    "name": "ipython",
    "version": 3
   },
   "file_extension": ".py",
   "mimetype": "text/x-python",
   "name": "python",
   "nbconvert_exporter": "python",
   "pygments_lexer": "ipython3",
   "version": "3.8.3"
  }
 },
 "nbformat": 4,
 "nbformat_minor": 1
}
